{
 "cells": [
  {
   "cell_type": "code",
   "execution_count": 13,
   "id": "e921a414",
   "metadata": {},
   "outputs": [],
   "source": [
    "from riotwatcher import ValWatcher, ApiError, RiotWatcher, LolWatcher\n",
    "import pandas as pd\n",
    "# global variables\n",
    "api_key = 'RGAPI-37049464-7e67-4cb6-99cc-3fd9aae9564e' # API Key Accessed from Riot Dev Portal \n",
    "ValorantWatcher = ValWatcher(api_key)\n",
    "RiotWatcher = RiotWatcher(api_key)\n",
    "LeagueWatcher = LolWatcher(api_key)"
   ]
  },
  {
   "cell_type": "code",
   "execution_count": 9,
   "id": "939f816c",
   "metadata": {},
   "outputs": [],
   "source": [
    "#Function gets player's Player Universally Unique Identifier by using their Summoner/Game Name and Tagline.\n",
    "def get_puuid(Region,GameName,TagLine):\n",
    "\n",
    "    PUUID = RiotWatcher.account.by_riot_id(Region,GameName,TagLine)['puuid']\n",
    "    \n",
    "    return PUUID"
   ]
  },
  {
   "cell_type": "code",
   "execution_count": 10,
   "id": "3ca47d37",
   "metadata": {},
   "outputs": [
    {
     "data": {
      "text/plain": [
       "'skDPBeoACRs-Y0VMzH3xsfMb7NuBWouyXmAE2HIPYda54S_YSoD51uYtWTEyXFhXEW3UVQypBe97ZQ'"
      ]
     },
     "execution_count": 10,
     "metadata": {},
     "output_type": "execute_result"
    }
   ],
   "source": [
    "get_puuid('AMERICAS','Valantine','Love')"
   ]
  },
  {
   "cell_type": "code",
   "execution_count": 37,
   "id": "36d7389d",
   "metadata": {},
   "outputs": [],
   "source": [
    "def Get_Summoner_Info(Region,Summoner_Name):\n",
    "    Summoner = LeagueWatcher.summoner.by_name(Region,Summoner_Name)\n",
    "    \n",
    "    return Summoner"
   ]
  },
  {
   "cell_type": "code",
   "execution_count": 80,
   "id": "663c27de",
   "metadata": {},
   "outputs": [
    {
     "data": {
      "text/plain": [
       "{'id': '3TGCaO02K-kW7KSkna-MPOte7TDkoS7N8wEEYNpedfn8cyM',\n",
       " 'accountId': 'Y9kprw7gtkpnnxpOLCHRkXQFPAa0KwjcU4qFColKz8crjw',\n",
       " 'puuid': 'BhEiz8YXoxZj4KedTLr-puND9PmFQvqUO7P8dkpeIJ-YAOyIrTTn9LfIRP_Ota2Pp9nULawNxuYlMQ',\n",
       " 'name': 'Doublelift',\n",
       " 'profileIconId': 2076,\n",
       " 'revisionDate': 1680815322000,\n",
       " 'summonerLevel': 386}"
      ]
     },
     "execution_count": 80,
     "metadata": {},
     "output_type": "execute_result"
    }
   ],
   "source": [
    "Get_Summoner_Info('NA1','Doublelift')"
   ]
  },
  {
   "cell_type": "code",
   "execution_count": 217,
   "id": "775f441e",
   "metadata": {},
   "outputs": [],
   "source": [
    "def Get_Summoner_id(Region,Summoner_Name):\n",
    "    Summoner = LeagueWatcher.summoner.by_name(Region,Summoner_Name)['id']\n",
    "    \n",
    "    return Summoner"
   ]
  },
  {
   "cell_type": "code",
   "execution_count": 295,
   "id": "6aa130d6",
   "metadata": {},
   "outputs": [
    {
     "data": {
      "text/plain": [
       "'3TGCaO02K-kW7KSkna-MPOte7TDkoS7N8wEEYNpedfn8cyM'"
      ]
     },
     "execution_count": 295,
     "metadata": {},
     "output_type": "execute_result"
    }
   ],
   "source": [
    "Get_Summoner_id('NA1','Doublelift')"
   ]
  },
  {
   "cell_type": "code",
   "execution_count": 316,
   "id": "255161d3",
   "metadata": {},
   "outputs": [],
   "source": [
    "def Get_Ranked_Stats(Region,Summoner):\n",
    "    Ranked_Stats = LeagueWatcher.league.by_summoner(Region, Summoner['id'])\n",
    "    if(Ranked_Stats==[]):\n",
    "        Temp = None\n",
    "    else:\n",
    "        Ranked_Stats.sort()\n",
    "        Temp = Ranked_Stats[0]\n",
    "    return Temp"
   ]
  },
  {
   "cell_type": "code",
   "execution_count": 317,
   "id": "ae40bcbe",
   "metadata": {},
   "outputs": [
    {
     "data": {
      "text/plain": [
       "{'leagueId': '1c4447d2-69df-4d95-929b-6f8a3a4a2877',\n",
       " 'queueType': 'RANKED_SOLO_5x5',\n",
       " 'tier': 'DIAMOND',\n",
       " 'rank': 'I',\n",
       " 'summonerId': '3TGCaO02K-kW7KSkna-MPOte7TDkoS7N8wEEYNpedfn8cyM',\n",
       " 'summonerName': 'Doublelift',\n",
       " 'leaguePoints': 75,\n",
       " 'wins': 92,\n",
       " 'losses': 96,\n",
       " 'veteran': False,\n",
       " 'inactive': False,\n",
       " 'freshBlood': False,\n",
       " 'hotStreak': True}"
      ]
     },
     "execution_count": 317,
     "metadata": {},
     "output_type": "execute_result"
    }
   ],
   "source": [
    "Get_Ranked_Stats('NA1',Get_Summoner_Info('NA1','Doublelift'))"
   ]
  },
  {
   "cell_type": "code",
   "execution_count": 312,
   "id": "cabae455",
   "metadata": {},
   "outputs": [],
   "source": [
    "def Get_Rank(Region,SummonerID):\n",
    "    Ranked_Stats = LeagueWatcher.league.by_summoner(Region, SummonerID)\n",
    "    if(Ranked_Stats==[]):\n",
    "        Temp = None\n",
    "    else:\n",
    "        Ranked_Stats.sort()\n",
    "        Temp = Ranked_Stats[0]\n",
    "    if (Temp== None):\n",
    "        Rank = 'Unranked'\n",
    "    else:\n",
    "        Rank = Temp['tier'] +' '+ Temp['rank']\n",
    "    return Rank"
   ]
  },
  {
   "cell_type": "code",
   "execution_count": 292,
   "id": "c25d60ec",
   "metadata": {},
   "outputs": [
    {
     "data": {
      "text/plain": [
       "'DIAMOND I'"
      ]
     },
     "execution_count": 292,
     "metadata": {},
     "output_type": "execute_result"
    }
   ],
   "source": [
    "Get_Rank('NA1',Get_Summoner_id('NA1','Doublelift'))"
   ]
  },
  {
   "cell_type": "code",
   "execution_count": 314,
   "id": "49aabd95",
   "metadata": {},
   "outputs": [],
   "source": [
    "# Function gets the match details of the most recent match played by the summoner\n",
    "def Last_Match(Region,Summoner):\n",
    "    Summoner_Matches = LeagueWatcher.match.matchlist_by_puuid(Region, Get_Summoner_Info(Region,Summoner)['puuid'])\n",
    "    Last_Match = Summoner_Matches[0]\n",
    "    Match_Details = LeagueWatcher.match.by_id(Region,Last_Match)\n",
    "\n",
    "\n",
    "\n",
    "    participants = []\n",
    "    for row in Match_Details['info']['participants']:\n",
    "        participants_row = {}\n",
    "        participants_row['Summoner'] = row['summonerName']\n",
    "        participants_row['Rank'] = Get_Rank(Region,Get_Summoner_id(Region,row['summonerName']))\n",
    "        participants_row['champion'] = row['championName']\n",
    "        participants_row['KDA'] = row['kills'] + row['assists'] / row['deaths']\n",
    "        participants_row['Kills'] = row['kills']\n",
    "        participants_row['Deaths'] = row['deaths']\n",
    "        participants_row['Assists'] = row['assists']\n",
    "        participants_row['CS']=(row['totalMinionsKilled']*60/row['timePlayed'])\n",
    "        participants_row['Damage'] = row['totalDamageDealt']\n",
    "        participants_row['Gold'] = row['goldEarned']\n",
    "        participants_row['Level'] = row['champLevel']\n",
    "        participants_row['Minions Killed'] = row['totalMinionsKilled']\n",
    "\n",
    "        participants.append(participants_row)\n",
    "    df = pd.DataFrame(participants)\n",
    "    return df"
   ]
  },
  {
   "cell_type": "code",
   "execution_count": 315,
   "id": "32f5fdd3",
   "metadata": {},
   "outputs": [
    {
     "data": {
      "text/html": [
       "<div>\n",
       "<style scoped>\n",
       "    .dataframe tbody tr th:only-of-type {\n",
       "        vertical-align: middle;\n",
       "    }\n",
       "\n",
       "    .dataframe tbody tr th {\n",
       "        vertical-align: top;\n",
       "    }\n",
       "\n",
       "    .dataframe thead th {\n",
       "        text-align: right;\n",
       "    }\n",
       "</style>\n",
       "<table border=\"1\" class=\"dataframe\">\n",
       "  <thead>\n",
       "    <tr style=\"text-align: right;\">\n",
       "      <th></th>\n",
       "      <th>Summoner</th>\n",
       "      <th>Rank</th>\n",
       "      <th>champion</th>\n",
       "      <th>KDA</th>\n",
       "      <th>Kills</th>\n",
       "      <th>Deaths</th>\n",
       "      <th>Assists</th>\n",
       "      <th>CS</th>\n",
       "      <th>Damage</th>\n",
       "      <th>Gold</th>\n",
       "      <th>Level</th>\n",
       "      <th>Minions Killed</th>\n",
       "    </tr>\n",
       "  </thead>\n",
       "  <tbody>\n",
       "    <tr>\n",
       "      <th>0</th>\n",
       "      <td>Zero kuchiki</td>\n",
       "      <td>BRONZE IV</td>\n",
       "      <td>AurelionSol</td>\n",
       "      <td>30.000000</td>\n",
       "      <td>27</td>\n",
       "      <td>14</td>\n",
       "      <td>42</td>\n",
       "      <td>4.044503</td>\n",
       "      <td>150690</td>\n",
       "      <td>21768</td>\n",
       "      <td>18</td>\n",
       "      <td>103</td>\n",
       "    </tr>\n",
       "    <tr>\n",
       "      <th>1</th>\n",
       "      <td>icyyulises</td>\n",
       "      <td>Unranked</td>\n",
       "      <td>KogMaw</td>\n",
       "      <td>11.111111</td>\n",
       "      <td>9</td>\n",
       "      <td>18</td>\n",
       "      <td>38</td>\n",
       "      <td>1.727749</td>\n",
       "      <td>61708</td>\n",
       "      <td>15802</td>\n",
       "      <td>18</td>\n",
       "      <td>44</td>\n",
       "    </tr>\n",
       "    <tr>\n",
       "      <th>2</th>\n",
       "      <td>ProNinjaTeaY</td>\n",
       "      <td>GOLD IV</td>\n",
       "      <td>Lux</td>\n",
       "      <td>19.272727</td>\n",
       "      <td>14</td>\n",
       "      <td>11</td>\n",
       "      <td>58</td>\n",
       "      <td>2.670157</td>\n",
       "      <td>128079</td>\n",
       "      <td>18059</td>\n",
       "      <td>18</td>\n",
       "      <td>68</td>\n",
       "    </tr>\n",
       "    <tr>\n",
       "      <th>3</th>\n",
       "      <td>mko1</td>\n",
       "      <td>GOLD III</td>\n",
       "      <td>Zac</td>\n",
       "      <td>15.555556</td>\n",
       "      <td>9</td>\n",
       "      <td>9</td>\n",
       "      <td>59</td>\n",
       "      <td>3.141361</td>\n",
       "      <td>134184</td>\n",
       "      <td>18088</td>\n",
       "      <td>18</td>\n",
       "      <td>80</td>\n",
       "    </tr>\n",
       "    <tr>\n",
       "      <th>4</th>\n",
       "      <td>Raiziel</td>\n",
       "      <td>Unranked</td>\n",
       "      <td>Camille</td>\n",
       "      <td>27.133333</td>\n",
       "      <td>25</td>\n",
       "      <td>15</td>\n",
       "      <td>32</td>\n",
       "      <td>0.981675</td>\n",
       "      <td>74447</td>\n",
       "      <td>19441</td>\n",
       "      <td>18</td>\n",
       "      <td>25</td>\n",
       "    </tr>\n",
       "    <tr>\n",
       "      <th>5</th>\n",
       "      <td>Alpagon</td>\n",
       "      <td>Unranked</td>\n",
       "      <td>Blitzcrank</td>\n",
       "      <td>13.411765</td>\n",
       "      <td>12</td>\n",
       "      <td>17</td>\n",
       "      <td>24</td>\n",
       "      <td>1.099476</td>\n",
       "      <td>62774</td>\n",
       "      <td>16417</td>\n",
       "      <td>18</td>\n",
       "      <td>28</td>\n",
       "    </tr>\n",
       "    <tr>\n",
       "      <th>6</th>\n",
       "      <td>MeiTian</td>\n",
       "      <td>Unranked</td>\n",
       "      <td>Amumu</td>\n",
       "      <td>9.200000</td>\n",
       "      <td>7</td>\n",
       "      <td>15</td>\n",
       "      <td>33</td>\n",
       "      <td>1.413613</td>\n",
       "      <td>65776</td>\n",
       "      <td>15190</td>\n",
       "      <td>18</td>\n",
       "      <td>36</td>\n",
       "    </tr>\n",
       "    <tr>\n",
       "      <th>7</th>\n",
       "      <td>Mythical Mal</td>\n",
       "      <td>Unranked</td>\n",
       "      <td>Caitlyn</td>\n",
       "      <td>11.315789</td>\n",
       "      <td>10</td>\n",
       "      <td>19</td>\n",
       "      <td>25</td>\n",
       "      <td>3.337696</td>\n",
       "      <td>127472</td>\n",
       "      <td>16495</td>\n",
       "      <td>18</td>\n",
       "      <td>85</td>\n",
       "    </tr>\n",
       "    <tr>\n",
       "      <th>8</th>\n",
       "      <td>Meidri</td>\n",
       "      <td>Unranked</td>\n",
       "      <td>Karthus</td>\n",
       "      <td>26.200000</td>\n",
       "      <td>25</td>\n",
       "      <td>20</td>\n",
       "      <td>24</td>\n",
       "      <td>3.965969</td>\n",
       "      <td>157071</td>\n",
       "      <td>21296</td>\n",
       "      <td>18</td>\n",
       "      <td>101</td>\n",
       "    </tr>\n",
       "    <tr>\n",
       "      <th>9</th>\n",
       "      <td>AlpacaUUU</td>\n",
       "      <td>Unranked</td>\n",
       "      <td>Volibear</td>\n",
       "      <td>15.846154</td>\n",
       "      <td>13</td>\n",
       "      <td>13</td>\n",
       "      <td>37</td>\n",
       "      <td>0.942408</td>\n",
       "      <td>76312</td>\n",
       "      <td>17795</td>\n",
       "      <td>18</td>\n",
       "      <td>24</td>\n",
       "    </tr>\n",
       "  </tbody>\n",
       "</table>\n",
       "</div>"
      ],
      "text/plain": [
       "       Summoner       Rank     champion        KDA  Kills  Deaths  Assists  \\\n",
       "0  Zero kuchiki  BRONZE IV  AurelionSol  30.000000     27      14       42   \n",
       "1    icyyulises   Unranked       KogMaw  11.111111      9      18       38   \n",
       "2  ProNinjaTeaY    GOLD IV          Lux  19.272727     14      11       58   \n",
       "3          mko1   GOLD III          Zac  15.555556      9       9       59   \n",
       "4       Raiziel   Unranked      Camille  27.133333     25      15       32   \n",
       "5       Alpagon   Unranked   Blitzcrank  13.411765     12      17       24   \n",
       "6       MeiTian   Unranked        Amumu   9.200000      7      15       33   \n",
       "7  Mythical Mal   Unranked      Caitlyn  11.315789     10      19       25   \n",
       "8        Meidri   Unranked      Karthus  26.200000     25      20       24   \n",
       "9     AlpacaUUU   Unranked     Volibear  15.846154     13      13       37   \n",
       "\n",
       "         CS  Damage   Gold  Level  Minions Killed  \n",
       "0  4.044503  150690  21768     18             103  \n",
       "1  1.727749   61708  15802     18              44  \n",
       "2  2.670157  128079  18059     18              68  \n",
       "3  3.141361  134184  18088     18              80  \n",
       "4  0.981675   74447  19441     18              25  \n",
       "5  1.099476   62774  16417     18              28  \n",
       "6  1.413613   65776  15190     18              36  \n",
       "7  3.337696  127472  16495     18              85  \n",
       "8  3.965969  157071  21296     18             101  \n",
       "9  0.942408   76312  17795     18              24  "
      ]
     },
     "execution_count": 315,
     "metadata": {},
     "output_type": "execute_result"
    }
   ],
   "source": [
    "Last_Match('NA1','Raiziel')"
   ]
  },
  {
   "cell_type": "code",
   "execution_count": null,
   "id": "b4a134cc",
   "metadata": {},
   "outputs": [],
   "source": []
  }
 ],
 "metadata": {
  "kernelspec": {
   "display_name": "Python 3",
   "language": "python",
   "name": "python3"
  },
  "language_info": {
   "codemirror_mode": {
    "name": "ipython",
    "version": 3
   },
   "file_extension": ".py",
   "mimetype": "text/x-python",
   "name": "python",
   "nbconvert_exporter": "python",
   "pygments_lexer": "ipython3",
   "version": "3.7.3"
  }
 },
 "nbformat": 4,
 "nbformat_minor": 5
}
