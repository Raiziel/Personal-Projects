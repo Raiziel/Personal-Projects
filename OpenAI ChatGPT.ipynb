{
 "cells": [
  {
   "cell_type": "code",
   "execution_count": 1,
   "id": "50179f8d",
   "metadata": {},
   "outputs": [],
   "source": [
    "import openai\n",
    "openai.api_key = \"Your_API_Key_Here\" #https://platform.openai.com/account/api-keys"
   ]
  },
  {
   "cell_type": "code",
   "execution_count": 7,
   "id": "c10e1cc9",
   "metadata": {},
   "outputs": [
    {
     "name": "stdout",
     "output_type": "stream",
     "text": [
      "User: Hello\n",
      "ChatGPT: Hello! How can I assist you today?\n",
      "\n",
      "\n",
      "User: please summarize this page https://math.mit.edu/~djk/calculus_beginners/chapter01/section01.html\n",
      "ChatGPT: The page you provided is an introduction to calculus, explaining the meaning of calculus and its applications in real-life. It defines calculus as the branch of mathematics that deals with the study of rates of change and accumulation. It also highlights the major differences between differential calculus and integral calculus. The page also explains the concept of limits, which is foundational to calculus, and provides some simple examples. Finally, the page discusses the utility of calculus in various fields of science and engineering.\n",
      "\n",
      "\n",
      "User: can you provide an example from this page?\n",
      "ChatGPT: Sure! One example from this page is the explanation of limits. The author uses the example of a moving car to illustrate the concept of limits, stating that the average speed of a car over a distance can be calculated by dividing the distance by the time taken to travel that distance. However, the instantaneous speed of a car at any given moment can only be estimated by measuring the speed at very small time intervals. This is where the notion of a limit comes in: we can estimate the instantaneous speed of a moving car by calculating the limit of the average speed as the time interval approaches zero.\n",
      "\n",
      "\n",
      "User: Can you design a problem using that concept?\n",
      "ChatGPT: Sure, here's an example problem that involves using limits to calculate an instantaneous rate of change:\n",
      "\n",
      "A car is traveling along a straight road, and its position as a function of time is given by the equation s(t) = 3t^2 - 4t + 10, where s is the position of the car in meters, and t is the time in seconds. \n",
      "\n",
      "What is the instantaneous velocity of the car at t = 2 seconds? \n",
      "\n",
      "To solve this problem, we need to calculate the derivative of s(t) using the power rule of differentiation. This will give us the instantaneous velocity at any given time. Then, we can use the limit definition of the derivative to calculate the instantaneous velocity at t = 2 seconds. \n",
      "\n",
      "Taking the derivative of s(t), we get: \n",
      "\n",
      "s'(t) = 6t - 4 \n",
      "\n",
      "Plugging in t = 2, we get: \n",
      "\n",
      "s'(2) = 6(2) - 4 = 8 \n",
      "\n",
      "Therefore, the instantaneous velocity of the car at t = 2 seconds is 8 m/s.\n",
      "\n",
      "\n",
      "User: \n"
     ]
    }
   ],
   "source": [
    "messages = [ {\"role\": \"system\", \"content\": \n",
    "              \"You are a intelligent assistant.\"} ]\n",
    "while True:\n",
    "    message = input(\"User: \")\n",
    "    if (message==\"\" or message==None):\n",
    "        break\n",
    "    if message:\n",
    "        messages.append(\n",
    "            {\"role\": \"user\", \"content\": message},\n",
    "        )\n",
    "        chat = openai.ChatCompletion.create(\n",
    "            model=\"gpt-3.5-turbo\", messages=messages\n",
    "        )\n",
    "    \n",
    "    reply = chat.choices[0].message.content\n",
    "    print(f\"ChatGPT: {reply}\")\n",
    "    messages.append({\"role\": \"assistant\", \"content\": reply})\n",
    "    print('\\n')"
   ]
  },
  {
   "cell_type": "code",
   "execution_count": null,
   "id": "39bf7ae9",
   "metadata": {},
   "outputs": [],
   "source": []
  }
 ],
 "metadata": {
  "kernelspec": {
   "display_name": "Python 3",
   "language": "python",
   "name": "python3"
  },
  "language_info": {
   "codemirror_mode": {
    "name": "ipython",
    "version": 3
   },
   "file_extension": ".py",
   "mimetype": "text/x-python",
   "name": "python",
   "nbconvert_exporter": "python",
   "pygments_lexer": "ipython3",
   "version": "3.7.3"
  }
 },
 "nbformat": 4,
 "nbformat_minor": 5
}
