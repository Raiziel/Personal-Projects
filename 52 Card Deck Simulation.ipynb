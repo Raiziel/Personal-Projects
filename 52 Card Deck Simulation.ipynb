{
 "cells": [
  {
   "cell_type": "code",
   "execution_count": 34,
   "id": "8a908fe3",
   "metadata": {},
   "outputs": [],
   "source": [
    "import random"
   ]
  },
  {
   "cell_type": "code",
   "execution_count": 92,
   "id": "1e87851d",
   "metadata": {},
   "outputs": [],
   "source": [
    "class Card:\n",
    "    def __init__(self,suit,value):\n",
    "        self.suit = suit\n",
    "        self.value = value\n",
    "    def show(self) :\n",
    "        print (\"{} of {}\".format(self.value , self.suit))"
   ]
  },
  {
   "cell_type": "code",
   "execution_count": 205,
   "id": "4833350b",
   "metadata": {},
   "outputs": [],
   "source": [
    "class Deck:\n",
    "\n",
    "    def __init__(self):\n",
    "        self.cards=[]\n",
    "        \n",
    "    def build(self): # function builds the deck object \"loading cards into the deck\"\n",
    "        for suit in [\"\\u2663\", \"\\u2665\",\n",
    "         \"\\u2666\", \"\\u2660\"]:\n",
    "            for value in ['A', '2', '3', '4', '5', '6', '7', '8', '9', '10', 'J', 'Q', 'K']:\n",
    "                self.cards.append(Card(suit,value))\n",
    "    def show(self): # functions shows cards that are remaining in the deck\n",
    "        for card in self.cards:\n",
    "            card.show()\n",
    "        print (\"Number of Cards Remaining: \", len(self.cards))\n",
    "    def Draw(self): # function pops the top card\n",
    "        return self.cards.pop()\n",
    "    def shuffle(self): # This function shuffles the deck through the fisher-yates shuffling method\n",
    "\n",
    "        for i in range (len(self.cards)-1,0,-1):\n",
    "\n",
    "            r = random.randint(0 , i)\n",
    "\n",
    "            self.cards[i],self.cards[r] = self.cards[r],self.cards[i]\n",
    "            \n",
    "    def __del__(self):# Function Destructor invoked when object is being deleted/destroyed\n",
    "        return "
   ]
  },
  {
   "cell_type": "code",
   "execution_count": 180,
   "id": "4c76a141",
   "metadata": {},
   "outputs": [],
   "source": [
    "class Player:\n",
    "    \n",
    "    def __init__ (self,name):\n",
    "        self.name = name\n",
    "        self.hand = []\n",
    "        \n",
    "    def draw(self,deck):\n",
    "\n",
    "        self.hand.append(deck.Draw())\n",
    "        return self\n",
    "\n",
    "    def showHand(self) :\n",
    "        for card in self.hand:\n",
    "            card.show()"
   ]
  },
  {
   "cell_type": "code",
   "execution_count": 206,
   "id": "7246dea4",
   "metadata": {},
   "outputs": [],
   "source": [
    "deck = Deck()\n",
    "del deck #making sure the deck object is empty calling destructor for practice purposes"
   ]
  },
  {
   "cell_type": "code",
   "execution_count": 207,
   "id": "fd696373",
   "metadata": {},
   "outputs": [],
   "source": [
    "deck = Deck() #initializing deck object\n",
    "deck.build() #loading the deck\n",
    "deck.shuffle()"
   ]
  },
  {
   "cell_type": "code",
   "execution_count": 179,
   "id": "25b5142c",
   "metadata": {},
   "outputs": [
    {
     "name": "stdout",
     "output_type": "stream",
     "text": [
      "13 of Hearts\n"
     ]
    }
   ],
   "source": [
    "card = deck.Draw() #Pops card from top of the deck \n",
    "card.show() # reveals the card that was drawn (popped)"
   ]
  },
  {
   "cell_type": "code",
   "execution_count": 208,
   "id": "d219daea",
   "metadata": {},
   "outputs": [
    {
     "name": "stdout",
     "output_type": "stream",
     "text": [
      "4 of ♣\n",
      "K of ♦\n",
      "A of ♦\n",
      "7 of ♥\n",
      "3 of ♠\n",
      "6 of ♥\n",
      "6 of ♦\n",
      "7 of ♠\n",
      "5 of ♦\n",
      "2 of ♠\n",
      "Q of ♥\n",
      "9 of ♣\n",
      "9 of ♦\n",
      "3 of ♣\n",
      "6 of ♠\n",
      "K of ♠\n",
      "7 of ♦\n",
      "10 of ♠\n",
      "2 of ♦\n",
      "J of ♥\n",
      "K of ♥\n",
      "2 of ♥\n",
      "5 of ♥\n",
      "Q of ♦\n",
      "5 of ♠\n",
      "Q of ♣\n",
      "4 of ♦\n",
      "9 of ♠\n",
      "8 of ♠\n",
      "6 of ♣\n",
      "10 of ♥\n",
      "10 of ♣\n",
      "5 of ♣\n",
      "10 of ♦\n",
      "3 of ♦\n",
      "J of ♠\n",
      "A of ♣\n",
      "3 of ♥\n",
      "8 of ♥\n",
      "J of ♦\n",
      "9 of ♥\n",
      "Q of ♠\n",
      "4 of ♠\n",
      "4 of ♥\n",
      "8 of ♣\n",
      "7 of ♣\n",
      "A of ♥\n",
      "2 of ♣\n",
      "A of ♠\n",
      "8 of ♦\n",
      "J of ♣\n",
      "K of ♣\n",
      "Number of Cards Remaining:  52\n"
     ]
    }
   ],
   "source": [
    "deck.show()"
   ]
  },
  {
   "cell_type": "code",
   "execution_count": 209,
   "id": "4cb9f5f5",
   "metadata": {},
   "outputs": [
    {
     "name": "stdout",
     "output_type": "stream",
     "text": [
      "K of ♣\n",
      "J of ♣\n",
      "8 of ♦\n",
      "A of ♠\n",
      "2 of ♣\n",
      "A of ♥\n",
      "7 of ♣\n"
     ]
    }
   ],
   "source": [
    "player = Player('Player') #initialize the player with a string/their name\n",
    "for i in range(0,7): #Loop so the player has 7 cards in hand\n",
    "    player.draw(deck)\n",
    "player.showHand() # function call to show the players hand"
   ]
  },
  {
   "cell_type": "code",
   "execution_count": 210,
   "id": "64c1c060",
   "metadata": {},
   "outputs": [
    {
     "name": "stdout",
     "output_type": "stream",
     "text": [
      "4 of ♣\n",
      "K of ♦\n",
      "A of ♦\n",
      "7 of ♥\n",
      "3 of ♠\n",
      "6 of ♥\n",
      "6 of ♦\n",
      "7 of ♠\n",
      "5 of ♦\n",
      "2 of ♠\n",
      "Q of ♥\n",
      "9 of ♣\n",
      "9 of ♦\n",
      "3 of ♣\n",
      "6 of ♠\n",
      "K of ♠\n",
      "7 of ♦\n",
      "10 of ♠\n",
      "2 of ♦\n",
      "J of ♥\n",
      "K of ♥\n",
      "2 of ♥\n",
      "5 of ♥\n",
      "Q of ♦\n",
      "5 of ♠\n",
      "Q of ♣\n",
      "4 of ♦\n",
      "9 of ♠\n",
      "8 of ♠\n",
      "6 of ♣\n",
      "10 of ♥\n",
      "10 of ♣\n",
      "5 of ♣\n",
      "10 of ♦\n",
      "3 of ♦\n",
      "J of ♠\n",
      "A of ♣\n",
      "3 of ♥\n",
      "8 of ♥\n",
      "J of ♦\n",
      "9 of ♥\n",
      "Q of ♠\n",
      "4 of ♠\n",
      "4 of ♥\n",
      "8 of ♣\n",
      "Number of Cards Remaining:  45\n"
     ]
    }
   ],
   "source": [
    "deck.show()"
   ]
  },
  {
   "cell_type": "code",
   "execution_count": null,
   "id": "c77e31bf",
   "metadata": {},
   "outputs": [],
   "source": []
  }
 ],
 "metadata": {
  "kernelspec": {
   "display_name": "Python 3",
   "language": "python",
   "name": "python3"
  },
  "language_info": {
   "codemirror_mode": {
    "name": "ipython",
    "version": 3
   },
   "file_extension": ".py",
   "mimetype": "text/x-python",
   "name": "python",
   "nbconvert_exporter": "python",
   "pygments_lexer": "ipython3",
   "version": "3.7.3"
  }
 },
 "nbformat": 4,
 "nbformat_minor": 5
}
